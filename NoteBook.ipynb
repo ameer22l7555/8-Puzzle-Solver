{
  "nbformat": 4,
  "nbformat_minor": 0,
  "metadata": {
    "colab": {
      "provenance": []
    },
    "kernelspec": {
      "name": "python3",
      "display_name": "Python 3"
    },
    "language_info": {
      "name": "python"
    }
  },
  "cells": [
    {
      "cell_type": "code",
      "source": [
        "from collections import deque\n",
        "import matplotlib.pyplot as plt\n",
        "import heapq\n",
        "import time"
      ],
      "metadata": {
        "id": "JReYWx87geBH"
      },
      "execution_count": 8,
      "outputs": []
    },
    {
      "cell_type": "code",
      "source": [
        "def get_successors(state):\n",
        "    blank = state.index(0)\n",
        "    row = blank // 3\n",
        "    col = blank % 3\n",
        "    successors = []\n",
        "    if row > 0:\n",
        "        new_blank = blank - 3\n",
        "        new_state = list(state)\n",
        "        new_state[blank], new_state[new_blank] = new_state[new_blank], new_state[blank]\n",
        "        successors.append((tuple(new_state), 'up'))\n",
        "    if row < 2:\n",
        "        new_blank = blank + 3\n",
        "        new_state = list(state)\n",
        "        new_state[blank], new_state[new_blank] = new_state[new_blank], new_state[blank]\n",
        "        successors.append((tuple(new_state), 'down'))\n",
        "    if col > 0:\n",
        "        new_blank = blank - 1\n",
        "        new_state = list(state)\n",
        "        new_state[blank], new_state[new_blank] = new_state[new_blank], new_state[blank]\n",
        "        successors.append((tuple(new_state), 'left'))\n",
        "    if col < 2:\n",
        "        new_blank = blank + 1\n",
        "        new_state = list(state)\n",
        "        new_state[blank], new_state[new_blank] = new_state[new_blank], new_state[blank]\n",
        "        successors.append((tuple(new_state), 'right'))\n",
        "    return successors"
      ],
      "metadata": {
        "id": "5GZpAI5lgflj"
      },
      "execution_count": 9,
      "outputs": []
    },
    {
      "cell_type": "code",
      "source": [
        "def bfs_search(start, goal):\n",
        "    start_time = time.time()\n",
        "    queue = deque([start])\n",
        "    visited = {start: (None, None)}\n",
        "    nodes_visited = 0\n",
        "    max_queue_size = 1\n",
        "    while queue:\n",
        "        current_queue_size = len(queue)\n",
        "        if current_queue_size > max_queue_size:\n",
        "            max_queue_size = current_queue_size\n",
        "        current_state = queue.popleft()\n",
        "        nodes_visited += 1\n",
        "        if current_state == goal:\n",
        "            path = []\n",
        "            state = current_state\n",
        "            while True:\n",
        "                parent, action = visited[state]\n",
        "                if parent is None:\n",
        "                    break\n",
        "                path.append(action)\n",
        "                state = parent\n",
        "            path.reverse()\n",
        "            end_time = time.time()\n",
        "            return {\n",
        "                'path': path,\n",
        "                'nodes_visited': nodes_visited,\n",
        "                'path_cost': len(path),\n",
        "                'time': end_time - start_time,\n",
        "                'max_memory': len(visited)\n",
        "            }\n",
        "        for next_state, action in get_successors(current_state):\n",
        "            if next_state not in visited:\n",
        "                visited[next_state] = (current_state, action)\n",
        "                queue.append(next_state)\n",
        "    return None"
      ],
      "metadata": {
        "id": "xQuivpgsgh_-"
      },
      "execution_count": 10,
      "outputs": []
    },
    {
      "cell_type": "code",
      "source": [
        "def dfs_search(start, goal):\n",
        "    start_time = time.time()\n",
        "    stack = [start]\n",
        "    visited = {start: (None, None)}\n",
        "    nodes_visited = 0\n",
        "    max_stack_size = 1\n",
        "    while stack:\n",
        "        current_stack_size = len(stack)\n",
        "        if current_stack_size > max_stack_size:\n",
        "            max_stack_size = current_stack_size\n",
        "        current_state = stack.pop()\n",
        "        nodes_visited += 1\n",
        "        if current_state == goal:\n",
        "            path = []\n",
        "            state = current_state\n",
        "            while True:\n",
        "                parent, action = visited[state]\n",
        "                if parent is None:\n",
        "                    break\n",
        "                path.append(action)\n",
        "                state = parent\n",
        "            path.reverse()\n",
        "            end_time = time.time()\n",
        "            return {\n",
        "                'path': path,\n",
        "                'nodes_visited': nodes_visited,\n",
        "                'path_cost': len(path),\n",
        "                'time': end_time - start_time,\n",
        "                'max_memory': len(visited)\n",
        "            }\n",
        "        successors = get_successors(current_state)\n",
        "        for next_state, action in reversed(successors):\n",
        "            if next_state not in visited:\n",
        "                visited[next_state] = (current_state, action)\n",
        "                stack.append(next_state)\n",
        "    return None"
      ],
      "metadata": {
        "id": "tbiqb6WDgj_8"
      },
      "execution_count": 11,
      "outputs": []
    },
    {
      "cell_type": "code",
      "source": [
        "def ids_search(start, goal):\n",
        "    start_time = time.time()\n",
        "    depth = 0\n",
        "    total_nodes_visited = 0\n",
        "    max_memory = 0\n",
        "    while True:\n",
        "        result = dls(start, goal, depth)\n",
        "        total_nodes_visited += result['nodes_visited']\n",
        "        current_memory = result['max_stack_size'] + result['visited_size']\n",
        "        if current_memory > max_memory:\n",
        "            max_memory = current_memory\n",
        "        if result['path'] is not None:\n",
        "            end_time = time.time()\n",
        "            return {\n",
        "                'path': result['path'],\n",
        "                'nodes_visited': total_nodes_visited,\n",
        "                'path_cost': len(result['path']),\n",
        "                'time': end_time - start_time,\n",
        "                'max_memory': max_memory\n",
        "            }\n",
        "        depth += 1"
      ],
      "metadata": {
        "id": "I7s_Wa0ZgmF2"
      },
      "execution_count": 12,
      "outputs": []
    },
    {
      "cell_type": "code",
      "source": [
        "def dls(start, goal, limit):\n",
        "    stack = [(start, 0, [])]\n",
        "    visited = {}\n",
        "    nodes_visited = 0\n",
        "    max_stack_size = 1\n",
        "    while stack:\n",
        "        current_stack_size = len(stack)\n",
        "        if current_stack_size > max_stack_size:\n",
        "            max_stack_size = current_stack_size\n",
        "        current_state, current_depth, path = stack.pop()\n",
        "        nodes_visited += 1\n",
        "        if current_state == goal:\n",
        "            return {\n",
        "                'path': path,\n",
        "                'nodes_visited': nodes_visited,\n",
        "                'max_stack_size': max_stack_size,\n",
        "                'visited_size': len(visited)\n",
        "            }\n",
        "        if current_state in visited:\n",
        "            if visited[current_state] <= current_depth:\n",
        "                continue\n",
        "        visited[current_state] = current_depth\n",
        "        if current_depth < limit:\n",
        "            successors = get_successors(current_state)\n",
        "            for next_state, action in reversed(successors):\n",
        "                new_depth = current_depth + 1\n",
        "                new_path = path + [action]\n",
        "                if next_state not in visited or new_depth < visited.get(next_state, float('inf')):\n",
        "                    stack.append((next_state, new_depth, new_path))\n",
        "    return {\n",
        "        'path': None,\n",
        "        'nodes_visited': nodes_visited,\n",
        "        'max_stack_size': max_stack_size,\n",
        "        'visited_size': len(visited)\n",
        "    }"
      ],
      "metadata": {
        "id": "Ll6gwgh8gzWN"
      },
      "execution_count": 13,
      "outputs": []
    },
    {
      "cell_type": "code",
      "source": [
        "def ucs_search(start, goal):\n",
        "    start_time = time.time()\n",
        "    heap = []\n",
        "    heapq.heappush(heap, (0, start, []))\n",
        "    visited = set()\n",
        "    nodes_visited = 0\n",
        "    max_heap_size = 1\n",
        "    while heap:\n",
        "        current_heap_size = len(heap)\n",
        "        if current_heap_size > max_heap_size:\n",
        "            max_heap_size = current_heap_size\n",
        "        cost, current_state, path = heapq.heappop(heap)\n",
        "        if current_state in visited:\n",
        "            continue\n",
        "        visited.add(current_state)\n",
        "        nodes_visited += 1\n",
        "        if current_state == goal:\n",
        "            end_time = time.time()\n",
        "            return {\n",
        "                'path': path,\n",
        "                'nodes_visited': nodes_visited,\n",
        "                'path_cost': len(path),\n",
        "                'time': end_time - start_time,\n",
        "                'max_memory': len(visited) + max_heap_size\n",
        "            }\n",
        "        for next_state, action in get_successors(current_state):\n",
        "            if next_state not in visited:\n",
        "                new_cost = cost + 1\n",
        "                new_path = path + [action]\n",
        "                heapq.heappush(heap, (new_cost, next_state, new_path))\n",
        "    return None"
      ],
      "metadata": {
        "id": "bloXpWgig1c9"
      },
      "execution_count": 14,
      "outputs": []
    },
    {
      "cell_type": "code",
      "source": [
        "start_input = input(\"Enter start State: \")\n",
        "goal_input = input(\"Enter goal State: \")\n",
        "start = tuple(map(int, start_input))\n",
        "goal = tuple(map(int, goal_input))"
      ],
      "metadata": {
        "colab": {
          "base_uri": "https://localhost:8080/"
        },
        "id": "UmmT3K3cg3T_",
        "outputId": "9cd1cd90-75a9-4fc5-d2e7-d2635cd6ee0d"
      },
      "execution_count": 15,
      "outputs": [
        {
          "name": "stdout",
          "output_type": "stream",
          "text": [
            "Enter start State: 120345678\n",
            "Enter goal State: 012345678\n"
          ]
        }
      ]
    },
    {
      "cell_type": "code",
      "source": [
        "algorithms = {\n",
        "    'BFS': bfs_search,\n",
        "    'DFS': dfs_search,\n",
        "    'IDS': ids_search,\n",
        "    'UCS': ucs_search\n",
        "}"
      ],
      "metadata": {
        "id": "3Ym2DDMxg65a"
      },
      "execution_count": 16,
      "outputs": []
    },
    {
      "cell_type": "code",
      "source": [
        "results = {}\n",
        "for algo_name in algorithms:\n",
        "    algo_func = algorithms[algo_name]\n",
        "    result = algo_func(start, goal)\n",
        "    results[algo_name] = result"
      ],
      "metadata": {
        "id": "n7qRHqSphBEu"
      },
      "execution_count": 17,
      "outputs": []
    },
    {
      "cell_type": "code",
      "source": [
        "for algo_name in results:\n",
        "    result = results[algo_name]\n",
        "    print(f\"\\n{algo_name}:\")\n",
        "    if result:\n",
        "       print(\"Steps to solve:\", result['path'])\n",
        "       print(\"Number of steps (Path Cost):\", result['path_cost'])\n",
        "       print(\"Nodes visited:\", result['nodes_visited'])\n",
        "       print(\"Time taken: {:.6f} seconds\".format(result['time']))\n",
        "       print(\"Max memory used:\", result['max_memory'])\n",
        "    else:\n",
        "       print(\"No solution found.\")"
      ],
      "metadata": {
        "colab": {
          "base_uri": "https://localhost:8080/"
        },
        "id": "Ty7y4uG-hhCq",
        "outputId": "7d9d9f4f-9faf-43ce-b2f8-4fbbf060d3dc"
      },
      "execution_count": 18,
      "outputs": [
        {
          "output_type": "stream",
          "name": "stdout",
          "text": [
            "\n",
            "BFS:\n",
            "Steps to solve: ['left', 'left']\n",
            "Number of steps (Path Cost): 2\n",
            "Nodes visited: 7\n",
            "Time taken: 0.000070 seconds\n",
            "Max memory used: 14\n",
            "\n",
            "DFS:\n",
            "Steps to solve: ['down', 'down', 'left', 'up', 'up', 'left', 'down', 'down', 'right', 'up', 'up', 'left', 'down', 'down', 'right', 'up', 'up', 'left', 'down', 'down', 'right', 'up', 'up', 'left', 'down', 'down', 'right', 'up', 'up', 'left', 'down', 'right', 'up', 'left', 'down', 'down', 'right', 'up', 'up', 'left', 'down', 'down', 'right', 'up', 'up', 'right', 'down', 'down', 'left', 'up', 'up', 'left', 'down', 'down', 'right', 'up', 'up', 'left', 'down', 'down', 'right', 'up', 'up', 'left', 'down', 'down', 'right', 'up', 'up', 'left', 'down', 'down', 'right', 'up', 'up', 'left', 'down', 'right', 'up', 'left', 'down', 'down', 'right', 'up', 'up', 'left', 'down', 'down', 'right', 'up', 'up', 'right', 'down', 'down', 'left', 'up', 'up', 'left', 'down', 'down', 'right', 'up', 'up', 'left', 'down', 'down', 'right', 'up', 'up', 'left', 'down', 'down', 'right', 'up', 'up', 'left', 'down', 'down', 'right', 'up', 'up', 'left', 'down', 'right', 'up', 'left', 'down', 'down', 'right', 'up', 'up', 'left', 'down', 'down', 'right', 'up', 'up', 'right', 'down', 'down', 'left', 'up', 'up', 'left', 'down', 'down', 'right', 'up', 'up', 'left', 'down', 'down', 'right', 'up', 'up', 'left', 'down', 'down', 'right', 'up', 'up', 'left', 'down', 'down', 'right', 'up', 'up', 'left', 'down', 'right', 'up', 'left', 'down', 'down', 'right', 'up', 'up', 'left', 'down', 'down', 'right', 'up', 'up', 'right', 'down', 'down', 'left', 'up', 'up', 'left', 'down', 'down', 'right', 'up', 'up', 'left', 'down', 'down', 'right', 'up', 'up', 'left', 'down', 'down', 'right', 'up', 'up', 'left', 'down', 'down', 'right', 'up', 'up', 'left', 'down', 'right', 'up', 'left', 'down', 'down', 'right', 'up', 'up', 'left', 'down', 'down', 'right', 'up', 'up', 'right', 'down', 'down', 'left', 'up', 'up', 'left', 'down', 'down', 'right', 'up', 'up', 'left', 'down', 'down', 'right', 'up', 'up', 'left', 'down', 'down', 'right', 'up', 'up', 'left', 'down', 'down', 'right', 'up', 'up', 'left', 'down', 'right', 'up', 'left', 'down', 'down', 'right', 'up', 'up', 'left', 'down', 'down', 'right', 'up', 'up', 'right', 'down', 'down', 'left', 'up', 'up', 'left', 'down', 'down', 'right', 'up', 'up', 'left', 'down', 'down', 'right', 'up', 'left', 'up']\n",
            "Number of steps (Path Cost): 294\n",
            "Nodes visited: 181204\n",
            "Time taken: 0.721574 seconds\n",
            "Max memory used: 181440\n",
            "\n",
            "IDS:\n",
            "Steps to solve: ['left', 'left']\n",
            "Number of steps (Path Cost): 2\n",
            "Nodes visited: 11\n",
            "Time taken: 0.000360 seconds\n",
            "Max memory used: 9\n",
            "\n",
            "UCS:\n",
            "Steps to solve: ['left', 'left']\n",
            "Number of steps (Path Cost): 2\n",
            "Nodes visited: 4\n",
            "Time taken: 0.000036 seconds\n",
            "Max memory used: 8\n"
          ]
        }
      ]
    },
    {
      "cell_type": "code",
      "source": [],
      "metadata": {
        "colab": {
          "base_uri": "https://localhost:8080/"
        },
        "id": "AMFEHcWDiAvK",
        "outputId": "ad3c0242-2d60-4f93-ba2f-087faded2a57"
      },
      "execution_count": 19,
      "outputs": [
        {
          "output_type": "stream",
          "name": "stdout",
          "text": [
            "\n",
            "Comparison Table:\n",
            "Algorithm  Nodes Visited   Path Cost       Memory          Time (s)       \n"
          ]
        }
      ]
    },
    {
      "cell_type": "code",
      "source": [
        "print(\"\\nComparison Table:\")\n",
        "print(\"{:<10} {:<15} {:<15} {:<15} {:<15}\".format(\n",
        "   \"Algorithm\", \"Nodes Visited\", \"Path Cost\", \"Memory\", \"Time (s)\"))\n",
        "for algo_name in ['BFS', 'DFS', 'IDS', 'UCS']:\n",
        "    result = results[algo_name]\n",
        "    if result:\n",
        "        print(\"{:<10} {:<15} {:<15} {:<15} {:<15.6f}\".format(\n",
        "            algo_name,\n",
        "            result['nodes_visited'],\n",
        "            result['path_cost'],\n",
        "            result['max_memory'],\n",
        "            result['time']))\n",
        "    else:\n",
        "        print(\"{:<10} {:<15} {:<15} {:<15} {:<15}\".format(\n",
        "            algo_name, \"N/A\", \"N/A\", \"N/A\", \"N/A\"))"
      ],
      "metadata": {
        "colab": {
          "base_uri": "https://localhost:8080/"
        },
        "id": "XkrlLUwFiFEQ",
        "outputId": "3aa596ae-b1ee-4a8b-d6cd-5ce0a6d13ec9"
      },
      "execution_count": 21,
      "outputs": [
        {
          "output_type": "stream",
          "name": "stdout",
          "text": [
            "\n",
            "Comparison Table:\n",
            "Algorithm  Nodes Visited   Path Cost       Memory          Time (s)       \n",
            "BFS        7               2               14              0.000070       \n",
            "DFS        181204          294             181440          0.721574       \n",
            "IDS        11              2               9               0.000360       \n",
            "UCS        4               2               8               0.000036       \n"
          ]
        }
      ]
    },
    {
      "cell_type": "code",
      "source": [
        "algorithms_list = ['BFS', 'DFS', 'IDS', 'UCS']\n",
        "nodes_visited = [results[algo]['nodes_visited'] if results[algo] else 0 for algo in algorithms_list]\n",
        "path_costs = [results[algo]['path_cost'] if results[algo] else 0 for algo in algorithms_list]\n",
        "times = [results[algo]['time'] if results[algo] else 0 for algo in algorithms_list]\n",
        "memory = [results[algo]['max_memory'] if results[algo] else 0 for algo in algorithms_list]"
      ],
      "metadata": {
        "id": "So5HybSPiIkj"
      },
      "execution_count": 22,
      "outputs": []
    },
    {
      "cell_type": "code",
      "source": [
        "plt.figure(figsize=(12, 8))\n",
        "plt.subplot(2, 2, 1)\n",
        "plt.bar(algorithms_list, nodes_visited, color='blue')\n",
        "plt.title('Nodes Visited')\n",
        "plt.ylabel('Count')\n",
        "plt.yscale('log')\n",
        "\n",
        "plt.subplot(2, 2, 2)\n",
        "plt.bar(algorithms_list, path_costs, color='green')\n",
        "plt.title('Path Cost')\n",
        "plt.ylabel('Cost')\n",
        "\n",
        "plt.subplot(2, 2, 3)\n",
        "plt.bar(algorithms_list, times, color='orange')\n",
        "plt.title('Time Taken (s)')\n",
        "plt.ylabel('Seconds')\n",
        "plt.yscale('log')\n",
        "\n",
        "plt.subplot(2, 2, 4)\n",
        "plt.bar(algorithms_list, memory, color='red')\n",
        "plt.title('Memory Usage')\n",
        "plt.ylabel('Units')\n",
        "plt.yscale('log')"
      ],
      "metadata": {
        "colab": {
          "base_uri": "https://localhost:8080/",
          "height": 699
        },
        "id": "Wmi5clGDiLk0",
        "outputId": "0b36e20e-d93c-4122-ba25-f6f88d42cce8"
      },
      "execution_count": 24,
      "outputs": [
        {
          "output_type": "display_data",
          "data": {
            "text/plain": [
              "<Figure size 1200x800 with 4 Axes>"
            ],
            "image/png": "[encoded data removed]"
          },
          "metadata": {}
        }
      ]
    }
  ]
}